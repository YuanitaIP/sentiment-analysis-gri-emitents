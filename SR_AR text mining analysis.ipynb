{
 "cells": [
  {
   "cell_type": "code",
   "execution_count": 2,
   "metadata": {},
   "outputs": [],
   "source": [
    "import os\n",
    "from os import path\n",
    "import numpy as np\n",
    "import pandas as pd\n",
    "import matplotlib.pyplot as plt\n",
    "import string\n",
    "import nltk\n",
    "import re\n",
    "import sys\n",
    "import datetime  "
   ]
  },
  {
   "cell_type": "code",
   "execution_count": null,
   "metadata": {},
   "outputs": [],
   "source": []
  },
  {
   "cell_type": "markdown",
   "metadata": {},
   "source": [
    "# Import data"
   ]
  },
  {
   "cell_type": "code",
   "execution_count": 1,
   "metadata": {},
   "outputs": [
    {
     "ename": "NameError",
     "evalue": "name 'datetime' is not defined",
     "output_type": "error",
     "traceback": [
      "\u001b[0;31m---------------------------------------------------------------------------\u001b[0m",
      "\u001b[0;31mNameError\u001b[0m                                 Traceback (most recent call last)",
      "\u001b[0;32m<ipython-input-1-691a60fac187>\u001b[0m in \u001b[0;36m<module>\u001b[0;34m\u001b[0m\n\u001b[0;32m----> 1\u001b[0;31m \u001b[0mstart\u001b[0m \u001b[0;34m=\u001b[0m \u001b[0mdatetime\u001b[0m\u001b[0;34m.\u001b[0m\u001b[0mdatetime\u001b[0m\u001b[0;34m.\u001b[0m\u001b[0mnow\u001b[0m\u001b[0;34m(\u001b[0m\u001b[0;34m)\u001b[0m\u001b[0;34m\u001b[0m\u001b[0;34m\u001b[0m\u001b[0m\n\u001b[0m\u001b[1;32m      2\u001b[0m \u001b[0mlist_of_files\u001b[0m \u001b[0;34m=\u001b[0m \u001b[0mos\u001b[0m\u001b[0;34m.\u001b[0m\u001b[0mlistdir\u001b[0m\u001b[0;34m(\u001b[0m\u001b[0;34m\"/Users/yuanp/Documents/SR_AR_2010-2018txt\"\u001b[0m\u001b[0;34m)\u001b[0m\u001b[0;34m\u001b[0m\u001b[0;34m\u001b[0m\u001b[0m\n\u001b[1;32m      3\u001b[0m \u001b[0mnlist\u001b[0m \u001b[0;34m=\u001b[0m \u001b[0mlen\u001b[0m\u001b[0;34m(\u001b[0m\u001b[0mlist_of_files\u001b[0m\u001b[0;34m)\u001b[0m\u001b[0;34m\u001b[0m\u001b[0;34m\u001b[0m\u001b[0m\n\u001b[1;32m      4\u001b[0m \u001b[0mcount_data\u001b[0m \u001b[0;34m=\u001b[0m \u001b[0mlist\u001b[0m\u001b[0;34m(\u001b[0m\u001b[0mnp\u001b[0m\u001b[0;34m.\u001b[0m\u001b[0marange\u001b[0m\u001b[0;34m(\u001b[0m\u001b[0;36m0\u001b[0m\u001b[0;34m,\u001b[0m\u001b[0mnlist\u001b[0m\u001b[0;34m,\u001b[0m\u001b[0;36m1\u001b[0m\u001b[0;34m)\u001b[0m\u001b[0;34m)\u001b[0m\u001b[0;34m\u001b[0m\u001b[0;34m\u001b[0m\u001b[0m\n\u001b[1;32m      5\u001b[0m \u001b[0mtrain\u001b[0m \u001b[0;34m=\u001b[0m \u001b[0mpd\u001b[0m\u001b[0;34m.\u001b[0m\u001b[0mDataFrame\u001b[0m\u001b[0;34m(\u001b[0m\u001b[0mnp\u001b[0m\u001b[0;34m.\u001b[0m\u001b[0mzeros\u001b[0m\u001b[0;34m(\u001b[0m\u001b[0;34m(\u001b[0m\u001b[0mnlist\u001b[0m\u001b[0;34m,\u001b[0m \u001b[0;36m2\u001b[0m\u001b[0;34m)\u001b[0m\u001b[0;34m)\u001b[0m\u001b[0;34m,\u001b[0m \u001b[0mindex\u001b[0m\u001b[0;34m=\u001b[0m\u001b[0mcount_data\u001b[0m\u001b[0;34m,\u001b[0m \u001b[0mcolumns\u001b[0m\u001b[0;34m=\u001b[0m\u001b[0;34m[\u001b[0m\u001b[0;34m'Name'\u001b[0m\u001b[0;34m,\u001b[0m\u001b[0;34m'Text'\u001b[0m\u001b[0;34m]\u001b[0m\u001b[0;34m)\u001b[0m\u001b[0;34m\u001b[0m\u001b[0;34m\u001b[0m\u001b[0m\n",
      "\u001b[0;31mNameError\u001b[0m: name 'datetime' is not defined"
     ]
    }
   ],
   "source": [
    "start = datetime.datetime.now()\n",
    "list_of_files = os.listdir(\"/Users/yuanp/Documents/SR_AR_2010-2018txt\")\n",
    "nlist = len(list_of_files)\n",
    "count_data = list(np.arange(0,nlist,1))\n",
    "train = pd.DataFrame(np.zeros((nlist, 2)), index=count_data, columns=['Name','Text'])\n",
    "\n",
    "for file, i in zip(list_of_files, count_data):\n",
    "    f = open(\"/Users/yuanp/Documents/SR_AR_2010-2018txt\" + \"/\" + file, \"r\")\n",
    "    train.loc[i, \"Name\"] = (file[:-4])\n",
    "    train.loc[i, \"Text\"] = f.read()\n",
    "\n",
    "train.head()"
   ]
  },
  {
   "cell_type": "code",
   "execution_count": 3,
   "metadata": {},
   "outputs": [],
   "source": [
    "# train['Ticker'], train['Kode'], train['Year'] = train['Name'].str.split('_', 2).str"
   ]
  },
  {
   "cell_type": "code",
   "execution_count": 4,
   "metadata": {},
   "outputs": [],
   "source": [
    "# train.head()"
   ]
  },
  {
   "cell_type": "code",
   "execution_count": 5,
   "metadata": {},
   "outputs": [],
   "source": [
    "#train['Text']=train['Text'].str.replace('\\n',' ')\n",
    "#train['Name']=train['Name'].str.replace('_SR','SR')\n",
    "#train['Name']=train['Name'].str.replace('_',' ')"
   ]
  },
  {
   "cell_type": "code",
   "execution_count": 6,
   "metadata": {
    "scrolled": false
   },
   "outputs": [],
   "source": [
    "#train.tail()"
   ]
  },
  {
   "cell_type": "code",
   "execution_count": 501,
   "metadata": {},
   "outputs": [],
   "source": [
    "# train.to_csv(\"E:/tm/project2/data_mentah.csv\",index = True)"
   ]
  },
  {
   "cell_type": "code",
   "execution_count": 10,
   "metadata": {
    "scrolled": true
   },
   "outputs": [
    {
     "data": {
      "text/plain": [
       "9"
      ]
     },
     "execution_count": 10,
     "metadata": {},
     "output_type": "execute_result"
    }
   ],
   "source": [
    "len(train)"
   ]
  },
  {
   "cell_type": "code",
   "execution_count": 11,
   "metadata": {},
   "outputs": [
    {
     "data": {
      "text/html": [
       "<div>\n",
       "<style scoped>\n",
       "    .dataframe tbody tr th:only-of-type {\n",
       "        vertical-align: middle;\n",
       "    }\n",
       "\n",
       "    .dataframe tbody tr th {\n",
       "        vertical-align: top;\n",
       "    }\n",
       "\n",
       "    .dataframe thead th {\n",
       "        text-align: right;\n",
       "    }\n",
       "</style>\n",
       "<table border=\"1\" class=\"dataframe\">\n",
       "  <thead>\n",
       "    <tr style=\"text-align: right;\">\n",
       "      <th></th>\n",
       "      <th>Name</th>\n",
       "      <th>Text</th>\n",
       "    </tr>\n",
       "  </thead>\n",
       "  <tbody>\n",
       "    <tr>\n",
       "      <th>0</th>\n",
       "      <td>2010</td>\n",
       "      <td>SHARING NATURE FOR PROSPERITY AND SUSTAINABILI...</td>\n",
       "    </tr>\n",
       "    <tr>\n",
       "      <th>1</th>\n",
       "      <td>2011</td>\n",
       "      <td>2011 Laporan Keberlanjutan Sustainability Repo...</td>\n",
       "    </tr>\n",
       "    <tr>\n",
       "      <th>2</th>\n",
       "      <td>2012</td>\n",
       "      <td>Sustainability Report 2012\\n\\nSustainability R...</td>\n",
       "    </tr>\n",
       "    <tr>\n",
       "      <th>3</th>\n",
       "      <td>2013</td>\n",
       "      <td>Plant ng A Sustainable Future 2013 Laporan Keb...</td>\n",
       "    </tr>\n",
       "    <tr>\n",
       "      <th>4</th>\n",
       "      <td>2014</td>\n",
       "      <td>Jl. Puloayang Raya Blok OR 1 Kawasan Industri ...</td>\n",
       "    </tr>\n",
       "    <tr>\n",
       "      <th>5</th>\n",
       "      <td>2015</td>\n",
       "      <td>What Makes Us\\nSustainable?\\n2015\\nLaporan Keb...</td>\n",
       "    </tr>\n",
       "    <tr>\n",
       "      <th>6</th>\n",
       "      <td>2016</td>\n",
       "      <td>Daftar Isi\\nContents\\n\\nLAPORAN MANAJEMEN MA...</td>\n",
       "    </tr>\n",
       "    <tr>\n",
       "      <th>7</th>\n",
       "      <td>2017</td>\n",
       "      <td>MOVING SUSTAINABLY\\nLAPORAN KEBERLANJUTAN\\n201...</td>\n",
       "    </tr>\n",
       "    <tr>\n",
       "      <th>8</th>\n",
       "      <td>2018</td>\n",
       "      <td>Stringing Hope\\nEmbracing Others\\nMembentang A...</td>\n",
       "    </tr>\n",
       "  </tbody>\n",
       "</table>\n",
       "</div>"
      ],
      "text/plain": [
       "   Name                                               Text\n",
       "0  2010  SHARING NATURE FOR PROSPERITY AND SUSTAINABILI...\n",
       "1  2011  2011 Laporan Keberlanjutan Sustainability Repo...\n",
       "2  2012  Sustainability Report 2012\\n\\nSustainability R...\n",
       "3  2013  Plant ng A Sustainable Future 2013 Laporan Keb...\n",
       "4  2014  Jl. Puloayang Raya Blok OR 1 Kawasan Industri ...\n",
       "5  2015  What Makes Us\\nSustainable?\\n2015\\nLaporan Keb...\n",
       "6  2016  \f",
       "\f",
       "Daftar Isi\\nContents\\n\\nLAPORAN MANAJEMEN MA...\n",
       "7  2017  MOVING SUSTAINABLY\\nLAPORAN KEBERLANJUTAN\\n201...\n",
       "8  2018  Stringing Hope\\nEmbracing Others\\nMembentang A..."
      ]
     },
     "execution_count": 11,
     "metadata": {},
     "output_type": "execute_result"
    }
   ],
   "source": [
    "train"
   ]
  },
  {
   "cell_type": "markdown",
   "metadata": {},
   "source": [
    "## 1.1 Calculate number of words"
   ]
  },
  {
   "cell_type": "code",
   "execution_count": 12,
   "metadata": {},
   "outputs": [
    {
     "data": {
      "text/html": [
       "<div>\n",
       "<style scoped>\n",
       "    .dataframe tbody tr th:only-of-type {\n",
       "        vertical-align: middle;\n",
       "    }\n",
       "\n",
       "    .dataframe tbody tr th {\n",
       "        vertical-align: top;\n",
       "    }\n",
       "\n",
       "    .dataframe thead th {\n",
       "        text-align: right;\n",
       "    }\n",
       "</style>\n",
       "<table border=\"1\" class=\"dataframe\">\n",
       "  <thead>\n",
       "    <tr style=\"text-align: right;\">\n",
       "      <th></th>\n",
       "      <th>Name</th>\n",
       "      <th>Text</th>\n",
       "      <th>Jumlah Kata</th>\n",
       "    </tr>\n",
       "  </thead>\n",
       "  <tbody>\n",
       "    <tr>\n",
       "      <th>0</th>\n",
       "      <td>2010</td>\n",
       "      <td>SHARING NATURE FOR PROSPERITY AND SUSTAINABILI...</td>\n",
       "      <td>653315</td>\n",
       "    </tr>\n",
       "    <tr>\n",
       "      <th>1</th>\n",
       "      <td>2011</td>\n",
       "      <td>2011 Laporan Keberlanjutan Sustainability Repo...</td>\n",
       "      <td>724720</td>\n",
       "    </tr>\n",
       "    <tr>\n",
       "      <th>2</th>\n",
       "      <td>2012</td>\n",
       "      <td>Sustainability Report 2012\\n\\nSustainability R...</td>\n",
       "      <td>879138</td>\n",
       "    </tr>\n",
       "    <tr>\n",
       "      <th>3</th>\n",
       "      <td>2013</td>\n",
       "      <td>Plant ng A Sustainable Future 2013 Laporan Keb...</td>\n",
       "      <td>1249593</td>\n",
       "    </tr>\n",
       "    <tr>\n",
       "      <th>4</th>\n",
       "      <td>2014</td>\n",
       "      <td>Jl. Puloayang Raya Blok OR 1 Kawasan Industri ...</td>\n",
       "      <td>1634727</td>\n",
       "    </tr>\n",
       "  </tbody>\n",
       "</table>\n",
       "</div>"
      ],
      "text/plain": [
       "   Name                                               Text  Jumlah Kata\n",
       "0  2010  SHARING NATURE FOR PROSPERITY AND SUSTAINABILI...       653315\n",
       "1  2011  2011 Laporan Keberlanjutan Sustainability Repo...       724720\n",
       "2  2012  Sustainability Report 2012\\n\\nSustainability R...       879138\n",
       "3  2013  Plant ng A Sustainable Future 2013 Laporan Keb...      1249593\n",
       "4  2014  Jl. Puloayang Raya Blok OR 1 Kawasan Industri ...      1634727"
      ]
     },
     "execution_count": 12,
     "metadata": {},
     "output_type": "execute_result"
    }
   ],
   "source": [
    "train['Jumlah Kata'] = train['Text'].apply(lambda x: len(str(x).split(\" \")))\n",
    "train.head()"
   ]
  },
  {
   "cell_type": "markdown",
   "metadata": {},
   "source": [
    "## 1.2 Calculate number of characters"
   ]
  },
  {
   "cell_type": "code",
   "execution_count": 13,
   "metadata": {
    "scrolled": true
   },
   "outputs": [
    {
     "data": {
      "text/html": [
       "<div>\n",
       "<style scoped>\n",
       "    .dataframe tbody tr th:only-of-type {\n",
       "        vertical-align: middle;\n",
       "    }\n",
       "\n",
       "    .dataframe tbody tr th {\n",
       "        vertical-align: top;\n",
       "    }\n",
       "\n",
       "    .dataframe thead th {\n",
       "        text-align: right;\n",
       "    }\n",
       "</style>\n",
       "<table border=\"1\" class=\"dataframe\">\n",
       "  <thead>\n",
       "    <tr style=\"text-align: right;\">\n",
       "      <th></th>\n",
       "      <th>Text</th>\n",
       "      <th>Jumlah Karakter</th>\n",
       "    </tr>\n",
       "  </thead>\n",
       "  <tbody>\n",
       "    <tr>\n",
       "      <th>0</th>\n",
       "      <td>SHARING NATURE FOR PROSPERITY AND SUSTAINABILI...</td>\n",
       "      <td>4986677</td>\n",
       "    </tr>\n",
       "    <tr>\n",
       "      <th>1</th>\n",
       "      <td>2011 Laporan Keberlanjutan Sustainability Repo...</td>\n",
       "      <td>5558826</td>\n",
       "    </tr>\n",
       "    <tr>\n",
       "      <th>2</th>\n",
       "      <td>Sustainability Report 2012\\n\\nSustainability R...</td>\n",
       "      <td>6820280</td>\n",
       "    </tr>\n",
       "    <tr>\n",
       "      <th>3</th>\n",
       "      <td>Plant ng A Sustainable Future 2013 Laporan Keb...</td>\n",
       "      <td>9613991</td>\n",
       "    </tr>\n",
       "    <tr>\n",
       "      <th>4</th>\n",
       "      <td>Jl. Puloayang Raya Blok OR 1 Kawasan Industri ...</td>\n",
       "      <td>12936753</td>\n",
       "    </tr>\n",
       "  </tbody>\n",
       "</table>\n",
       "</div>"
      ],
      "text/plain": [
       "                                                Text  Jumlah Karakter\n",
       "0  SHARING NATURE FOR PROSPERITY AND SUSTAINABILI...          4986677\n",
       "1  2011 Laporan Keberlanjutan Sustainability Repo...          5558826\n",
       "2  Sustainability Report 2012\\n\\nSustainability R...          6820280\n",
       "3  Plant ng A Sustainable Future 2013 Laporan Keb...          9613991\n",
       "4  Jl. Puloayang Raya Blok OR 1 Kawasan Industri ...         12936753"
      ]
     },
     "execution_count": 13,
     "metadata": {},
     "output_type": "execute_result"
    }
   ],
   "source": [
    "train['Jumlah Karakter'] = train['Text'].str.len() ## this also includes spaces\n",
    "train[['Text','Jumlah Karakter']].head()"
   ]
  },
  {
   "cell_type": "markdown",
   "metadata": {},
   "source": [
    "## 1.3 Calculate the average of word length"
   ]
  },
  {
   "cell_type": "code",
   "execution_count": 14,
   "metadata": {},
   "outputs": [
    {
     "data": {
      "text/html": [
       "<div>\n",
       "<style scoped>\n",
       "    .dataframe tbody tr th:only-of-type {\n",
       "        vertical-align: middle;\n",
       "    }\n",
       "\n",
       "    .dataframe tbody tr th {\n",
       "        vertical-align: top;\n",
       "    }\n",
       "\n",
       "    .dataframe thead th {\n",
       "        text-align: right;\n",
       "    }\n",
       "</style>\n",
       "<table border=\"1\" class=\"dataframe\">\n",
       "  <thead>\n",
       "    <tr style=\"text-align: right;\">\n",
       "      <th></th>\n",
       "      <th>Text</th>\n",
       "      <th>Rata2 panjang kata</th>\n",
       "    </tr>\n",
       "  </thead>\n",
       "  <tbody>\n",
       "    <tr>\n",
       "      <th>0</th>\n",
       "      <td>SHARING NATURE FOR PROSPERITY AND SUSTAINABILI...</td>\n",
       "      <td>6</td>\n",
       "    </tr>\n",
       "    <tr>\n",
       "      <th>1</th>\n",
       "      <td>2011 Laporan Keberlanjutan Sustainability Repo...</td>\n",
       "      <td>6</td>\n",
       "    </tr>\n",
       "    <tr>\n",
       "      <th>2</th>\n",
       "      <td>Sustainability Report 2012\\n\\nSustainability R...</td>\n",
       "      <td>6</td>\n",
       "    </tr>\n",
       "    <tr>\n",
       "      <th>3</th>\n",
       "      <td>Plant ng A Sustainable Future 2013 Laporan Keb...</td>\n",
       "      <td>6</td>\n",
       "    </tr>\n",
       "    <tr>\n",
       "      <th>4</th>\n",
       "      <td>Jl. Puloayang Raya Blok OR 1 Kawasan Industri ...</td>\n",
       "      <td>6</td>\n",
       "    </tr>\n",
       "  </tbody>\n",
       "</table>\n",
       "</div>"
      ],
      "text/plain": [
       "                                                Text  Rata2 panjang kata\n",
       "0  SHARING NATURE FOR PROSPERITY AND SUSTAINABILI...                   6\n",
       "1  2011 Laporan Keberlanjutan Sustainability Repo...                   6\n",
       "2  Sustainability Report 2012\\n\\nSustainability R...                   6\n",
       "3  Plant ng A Sustainable Future 2013 Laporan Keb...                   6\n",
       "4  Jl. Puloayang Raya Blok OR 1 Kawasan Industri ...                   6"
      ]
     },
     "execution_count": 14,
     "metadata": {},
     "output_type": "execute_result"
    }
   ],
   "source": [
    "def avg_word(sentence):\n",
    "  words = sentence.split()\n",
    "  return (sum(len(word) for word in words)/len(words))\n",
    "\n",
    "train['Rata2 panjang kata'] = train['Text'].apply(lambda x: avg_word(x))\n",
    "train[['Text','Rata2 panjang kata']].head()"
   ]
  },
  {
   "cell_type": "markdown",
   "metadata": {},
   "source": [
    "## 1.4 Calculate number of unimportant words"
   ]
  },
  {
   "cell_type": "code",
   "execution_count": 15,
   "metadata": {
    "scrolled": true
   },
   "outputs": [
    {
     "name": "stderr",
     "output_type": "stream",
     "text": [
      "C:\\Anaconda2\\envs\\gl-env\\lib\\site-packages\\ipykernel_launcher.py:4: UnicodeWarning: Unicode equal comparison failed to convert both arguments to Unicode - interpreting them as being unequal\n",
      "  after removing the cwd from sys.path.\n"
     ]
    },
    {
     "data": {
      "text/html": [
       "<div>\n",
       "<style scoped>\n",
       "    .dataframe tbody tr th:only-of-type {\n",
       "        vertical-align: middle;\n",
       "    }\n",
       "\n",
       "    .dataframe tbody tr th {\n",
       "        vertical-align: top;\n",
       "    }\n",
       "\n",
       "    .dataframe thead th {\n",
       "        text-align: right;\n",
       "    }\n",
       "</style>\n",
       "<table border=\"1\" class=\"dataframe\">\n",
       "  <thead>\n",
       "    <tr style=\"text-align: right;\">\n",
       "      <th></th>\n",
       "      <th>Text</th>\n",
       "      <th>Kata2 tidak penting</th>\n",
       "    </tr>\n",
       "  </thead>\n",
       "  <tbody>\n",
       "    <tr>\n",
       "      <th>0</th>\n",
       "      <td>SHARING NATURE FOR PROSPERITY AND SUSTAINABILI...</td>\n",
       "      <td>109229</td>\n",
       "    </tr>\n",
       "    <tr>\n",
       "      <th>1</th>\n",
       "      <td>2011 Laporan Keberlanjutan Sustainability Repo...</td>\n",
       "      <td>125771</td>\n",
       "    </tr>\n",
       "    <tr>\n",
       "      <th>2</th>\n",
       "      <td>Sustainability Report 2012\\n\\nSustainability R...</td>\n",
       "      <td>178819</td>\n",
       "    </tr>\n",
       "    <tr>\n",
       "      <th>3</th>\n",
       "      <td>Plant ng A Sustainable Future 2013 Laporan Keb...</td>\n",
       "      <td>235491</td>\n",
       "    </tr>\n",
       "    <tr>\n",
       "      <th>4</th>\n",
       "      <td>Jl. Puloayang Raya Blok OR 1 Kawasan Industri ...</td>\n",
       "      <td>266559</td>\n",
       "    </tr>\n",
       "  </tbody>\n",
       "</table>\n",
       "</div>"
      ],
      "text/plain": [
       "                                                Text  Kata2 tidak penting\n",
       "0  SHARING NATURE FOR PROSPERITY AND SUSTAINABILI...               109229\n",
       "1  2011 Laporan Keberlanjutan Sustainability Repo...               125771\n",
       "2  Sustainability Report 2012\\n\\nSustainability R...               178819\n",
       "3  Plant ng A Sustainable Future 2013 Laporan Keb...               235491\n",
       "4  Jl. Puloayang Raya Blok OR 1 Kawasan Industri ...               266559"
      ]
     },
     "execution_count": 15,
     "metadata": {},
     "output_type": "execute_result"
    }
   ],
   "source": [
    "from nltk.corpus import stopwords\n",
    "stop = stopwords.words('english')\n",
    "\n",
    "train['Kata2 tidak penting'] = train['Text'].apply(lambda x: len([x for x in x.split() if x in stop]))\n",
    "train[['Text','Kata2 tidak penting']].head()"
   ]
  },
  {
   "cell_type": "markdown",
   "metadata": {},
   "source": [
    "## 1.5 Calculate number of special characters"
   ]
  },
  {
   "cell_type": "code",
   "execution_count": 16,
   "metadata": {
    "scrolled": true
   },
   "outputs": [
    {
     "data": {
      "text/html": [
       "<div>\n",
       "<style scoped>\n",
       "    .dataframe tbody tr th:only-of-type {\n",
       "        vertical-align: middle;\n",
       "    }\n",
       "\n",
       "    .dataframe tbody tr th {\n",
       "        vertical-align: top;\n",
       "    }\n",
       "\n",
       "    .dataframe thead th {\n",
       "        text-align: right;\n",
       "    }\n",
       "</style>\n",
       "<table border=\"1\" class=\"dataframe\">\n",
       "  <thead>\n",
       "    <tr style=\"text-align: right;\">\n",
       "      <th></th>\n",
       "      <th>Text</th>\n",
       "      <th>hastags</th>\n",
       "    </tr>\n",
       "  </thead>\n",
       "  <tbody>\n",
       "    <tr>\n",
       "      <th>0</th>\n",
       "      <td>SHARING NATURE FOR PROSPERITY AND SUSTAINABILI...</td>\n",
       "      <td>6</td>\n",
       "    </tr>\n",
       "    <tr>\n",
       "      <th>1</th>\n",
       "      <td>2011 Laporan Keberlanjutan Sustainability Repo...</td>\n",
       "      <td>40</td>\n",
       "    </tr>\n",
       "    <tr>\n",
       "      <th>2</th>\n",
       "      <td>Sustainability Report 2012\\n\\nSustainability R...</td>\n",
       "      <td>9</td>\n",
       "    </tr>\n",
       "    <tr>\n",
       "      <th>3</th>\n",
       "      <td>Plant ng A Sustainable Future 2013 Laporan Keb...</td>\n",
       "      <td>56</td>\n",
       "    </tr>\n",
       "    <tr>\n",
       "      <th>4</th>\n",
       "      <td>Jl. Puloayang Raya Blok OR 1 Kawasan Industri ...</td>\n",
       "      <td>104</td>\n",
       "    </tr>\n",
       "  </tbody>\n",
       "</table>\n",
       "</div>"
      ],
      "text/plain": [
       "                                                Text  hastags\n",
       "0  SHARING NATURE FOR PROSPERITY AND SUSTAINABILI...        6\n",
       "1  2011 Laporan Keberlanjutan Sustainability Repo...       40\n",
       "2  Sustainability Report 2012\\n\\nSustainability R...        9\n",
       "3  Plant ng A Sustainable Future 2013 Laporan Keb...       56\n",
       "4  Jl. Puloayang Raya Blok OR 1 Kawasan Industri ...      104"
      ]
     },
     "execution_count": 16,
     "metadata": {},
     "output_type": "execute_result"
    }
   ],
   "source": [
    "train['hastags'] = train['Text'].apply(lambda x: len([x for x in x.split() if x.startswith('#')]))\n",
    "train[['Text','hastags']].head()"
   ]
  },
  {
   "cell_type": "markdown",
   "metadata": {},
   "source": [
    "## 1.6 Calculate number of numerics"
   ]
  },
  {
   "cell_type": "code",
   "execution_count": 17,
   "metadata": {},
   "outputs": [
    {
     "data": {
      "text/html": [
       "<div>\n",
       "<style scoped>\n",
       "    .dataframe tbody tr th:only-of-type {\n",
       "        vertical-align: middle;\n",
       "    }\n",
       "\n",
       "    .dataframe tbody tr th {\n",
       "        vertical-align: top;\n",
       "    }\n",
       "\n",
       "    .dataframe thead th {\n",
       "        text-align: right;\n",
       "    }\n",
       "</style>\n",
       "<table border=\"1\" class=\"dataframe\">\n",
       "  <thead>\n",
       "    <tr style=\"text-align: right;\">\n",
       "      <th></th>\n",
       "      <th>Text</th>\n",
       "      <th>Numerik</th>\n",
       "    </tr>\n",
       "  </thead>\n",
       "  <tbody>\n",
       "    <tr>\n",
       "      <th>0</th>\n",
       "      <td>SHARING NATURE FOR PROSPERITY AND SUSTAINABILI...</td>\n",
       "      <td>19984</td>\n",
       "    </tr>\n",
       "    <tr>\n",
       "      <th>1</th>\n",
       "      <td>2011 Laporan Keberlanjutan Sustainability Repo...</td>\n",
       "      <td>23193</td>\n",
       "    </tr>\n",
       "    <tr>\n",
       "      <th>2</th>\n",
       "      <td>Sustainability Report 2012\\n\\nSustainability R...</td>\n",
       "      <td>28933</td>\n",
       "    </tr>\n",
       "    <tr>\n",
       "      <th>3</th>\n",
       "      <td>Plant ng A Sustainable Future 2013 Laporan Keb...</td>\n",
       "      <td>38425</td>\n",
       "    </tr>\n",
       "    <tr>\n",
       "      <th>4</th>\n",
       "      <td>Jl. Puloayang Raya Blok OR 1 Kawasan Industri ...</td>\n",
       "      <td>48544</td>\n",
       "    </tr>\n",
       "  </tbody>\n",
       "</table>\n",
       "</div>"
      ],
      "text/plain": [
       "                                                Text  Numerik\n",
       "0  SHARING NATURE FOR PROSPERITY AND SUSTAINABILI...    19984\n",
       "1  2011 Laporan Keberlanjutan Sustainability Repo...    23193\n",
       "2  Sustainability Report 2012\\n\\nSustainability R...    28933\n",
       "3  Plant ng A Sustainable Future 2013 Laporan Keb...    38425\n",
       "4  Jl. Puloayang Raya Blok OR 1 Kawasan Industri ...    48544"
      ]
     },
     "execution_count": 17,
     "metadata": {},
     "output_type": "execute_result"
    }
   ],
   "source": [
    "train['Numerik'] = train['Text'].apply(lambda x: len([x for x in x.split() if x.isdigit()]))\n",
    "train[['Text','Numerik']].head()"
   ]
  },
  {
   "cell_type": "markdown",
   "metadata": {},
   "source": [
    "## 1.7 Calculate number of uppercase words"
   ]
  },
  {
   "cell_type": "code",
   "execution_count": 18,
   "metadata": {},
   "outputs": [
    {
     "data": {
      "text/html": [
       "<div>\n",
       "<style scoped>\n",
       "    .dataframe tbody tr th:only-of-type {\n",
       "        vertical-align: middle;\n",
       "    }\n",
       "\n",
       "    .dataframe tbody tr th {\n",
       "        vertical-align: top;\n",
       "    }\n",
       "\n",
       "    .dataframe thead th {\n",
       "        text-align: right;\n",
       "    }\n",
       "</style>\n",
       "<table border=\"1\" class=\"dataframe\">\n",
       "  <thead>\n",
       "    <tr style=\"text-align: right;\">\n",
       "      <th></th>\n",
       "      <th>Text</th>\n",
       "      <th>upper</th>\n",
       "    </tr>\n",
       "  </thead>\n",
       "  <tbody>\n",
       "    <tr>\n",
       "      <th>0</th>\n",
       "      <td>SHARING NATURE FOR PROSPERITY AND SUSTAINABILI...</td>\n",
       "      <td>35006</td>\n",
       "    </tr>\n",
       "    <tr>\n",
       "      <th>1</th>\n",
       "      <td>2011 Laporan Keberlanjutan Sustainability Repo...</td>\n",
       "      <td>44301</td>\n",
       "    </tr>\n",
       "    <tr>\n",
       "      <th>2</th>\n",
       "      <td>Sustainability Report 2012\\n\\nSustainability R...</td>\n",
       "      <td>48927</td>\n",
       "    </tr>\n",
       "    <tr>\n",
       "      <th>3</th>\n",
       "      <td>Plant ng A Sustainable Future 2013 Laporan Keb...</td>\n",
       "      <td>71862</td>\n",
       "    </tr>\n",
       "    <tr>\n",
       "      <th>4</th>\n",
       "      <td>Jl. Puloayang Raya Blok OR 1 Kawasan Industri ...</td>\n",
       "      <td>116163</td>\n",
       "    </tr>\n",
       "  </tbody>\n",
       "</table>\n",
       "</div>"
      ],
      "text/plain": [
       "                                                Text   upper\n",
       "0  SHARING NATURE FOR PROSPERITY AND SUSTAINABILI...   35006\n",
       "1  2011 Laporan Keberlanjutan Sustainability Repo...   44301\n",
       "2  Sustainability Report 2012\\n\\nSustainability R...   48927\n",
       "3  Plant ng A Sustainable Future 2013 Laporan Keb...   71862\n",
       "4  Jl. Puloayang Raya Blok OR 1 Kawasan Industri ...  116163"
      ]
     },
     "execution_count": 18,
     "metadata": {},
     "output_type": "execute_result"
    }
   ],
   "source": [
    "train['upper'] = train['Text'].apply(lambda x: len([x for x in x.split() if x.isupper()]))\n",
    "train[['Text','upper']].head()"
   ]
  },
  {
   "cell_type": "markdown",
   "metadata": {},
   "source": [
    "## 2. Basic Pre-processing"
   ]
  },
  {
   "cell_type": "markdown",
   "metadata": {},
   "source": [
    "### 2.1 Lower case\n",
    "### 2.2 Removing Punctuation"
   ]
  },
  {
   "cell_type": "code",
   "execution_count": 19,
   "metadata": {},
   "outputs": [
    {
     "data": {
      "text/plain": [
       "0    sharing nature prosperity sustainability susta...\n",
       "1    keberlanjutan sustainability astra agro lestar...\n",
       "2    sustainability sustainability sustaining futur...\n",
       "3    plant ng sustainable future keberlanjutan sust...\n",
       "4    puloayang raya blok kawasan industri pulogadun...\n",
       "Name: Text, dtype: object"
      ]
     },
     "execution_count": 19,
     "metadata": {},
     "output_type": "execute_result"
    }
   ],
   "source": [
    "# Lower case\n",
    "train['Text'] = train['Text'].apply(lambda x: \" \".join(x.lower() for x in x.split()))\n",
    "\n",
    "# Remove punctuation\n",
    "train['Text'] = train['Text'].str.replace('[^\\w\\s]','')\n",
    "\n",
    "# Remove numerics\n",
    "train['Text'] = train['Text'].apply(lambda x: ' '.join([x for x in x.split() if not x.isdigit()]))\n",
    "\n",
    "# Remove indonesian stopwords\n",
    "from nltk.corpus import stopwords\n",
    "stop = stopwords.words('indonesian')\n",
    "train['Text'] = train['Text'].apply(lambda x: \" \".join(x for x in x.split() if x not in stop))\n",
    "\n",
    "# Remove english stopwords\n",
    "from nltk.corpus import stopwords\n",
    "stop = set(stopwords.words('english'))\n",
    "stop.update(('pt','tbk','laporan','report','company','ii','i','perusahaan','p','perseroan','jl','indonesia','persero'))\n",
    "train['Text'] = train['Text'].apply(lambda x: \" \".join(x for x in x.split() if x not in stop))\n",
    "\n",
    "train['Text'].head()"
   ]
  },
  {
   "cell_type": "markdown",
   "metadata": {},
   "source": [
    "# 3. Calculate number of positive and negative words"
   ]
  },
  {
   "cell_type": "code",
   "execution_count": 20,
   "metadata": {
    "scrolled": true
   },
   "outputs": [
    {
     "data": {
      "text/html": [
       "<div>\n",
       "<style scoped>\n",
       "    .dataframe tbody tr th:only-of-type {\n",
       "        vertical-align: middle;\n",
       "    }\n",
       "\n",
       "    .dataframe tbody tr th {\n",
       "        vertical-align: top;\n",
       "    }\n",
       "\n",
       "    .dataframe thead th {\n",
       "        text-align: right;\n",
       "    }\n",
       "</style>\n",
       "<table border=\"1\" class=\"dataframe\">\n",
       "  <thead>\n",
       "    <tr style=\"text-align: right;\">\n",
       "      <th></th>\n",
       "      <th>Text</th>\n",
       "      <th>Positif</th>\n",
       "      <th>Negatif</th>\n",
       "    </tr>\n",
       "  </thead>\n",
       "  <tbody>\n",
       "    <tr>\n",
       "      <th>0</th>\n",
       "      <td>sharing nature prosperity sustainability susta...</td>\n",
       "      <td>13839</td>\n",
       "      <td>4958</td>\n",
       "    </tr>\n",
       "    <tr>\n",
       "      <th>1</th>\n",
       "      <td>keberlanjutan sustainability astra agro lestar...</td>\n",
       "      <td>16787</td>\n",
       "      <td>5634</td>\n",
       "    </tr>\n",
       "    <tr>\n",
       "      <th>2</th>\n",
       "      <td>sustainability sustainability sustaining futur...</td>\n",
       "      <td>23160</td>\n",
       "      <td>7754</td>\n",
       "    </tr>\n",
       "    <tr>\n",
       "      <th>3</th>\n",
       "      <td>plant ng sustainable future keberlanjutan sust...</td>\n",
       "      <td>33874</td>\n",
       "      <td>9944</td>\n",
       "    </tr>\n",
       "    <tr>\n",
       "      <th>4</th>\n",
       "      <td>puloayang raya blok kawasan industri pulogadun...</td>\n",
       "      <td>42631</td>\n",
       "      <td>12264</td>\n",
       "    </tr>\n",
       "    <tr>\n",
       "      <th>5</th>\n",
       "      <td>makes us sustainable keberlanjutan sustainabil...</td>\n",
       "      <td>52392</td>\n",
       "      <td>15017</td>\n",
       "    </tr>\n",
       "    <tr>\n",
       "      <th>6</th>\n",
       "      <td>daftar isi contents manajemen management sambu...</td>\n",
       "      <td>62959</td>\n",
       "      <td>19133</td>\n",
       "    </tr>\n",
       "    <tr>\n",
       "      <th>7</th>\n",
       "      <td>moving sustainably keberlanjutan sustainabilit...</td>\n",
       "      <td>47933</td>\n",
       "      <td>14585</td>\n",
       "    </tr>\n",
       "    <tr>\n",
       "      <th>8</th>\n",
       "      <td>stringing hope embracing others membentang asa...</td>\n",
       "      <td>29018</td>\n",
       "      <td>8967</td>\n",
       "    </tr>\n",
       "  </tbody>\n",
       "</table>\n",
       "</div>"
      ],
      "text/plain": [
       "                                                Text  Positif  Negatif\n",
       "0  sharing nature prosperity sustainability susta...    13839     4958\n",
       "1  keberlanjutan sustainability astra agro lestar...    16787     5634\n",
       "2  sustainability sustainability sustaining futur...    23160     7754\n",
       "3  plant ng sustainable future keberlanjutan sust...    33874     9944\n",
       "4  puloayang raya blok kawasan industri pulogadun...    42631    12264\n",
       "5  makes us sustainable keberlanjutan sustainabil...    52392    15017\n",
       "6  daftar isi contents manajemen management sambu...    62959    19133\n",
       "7  moving sustainably keberlanjutan sustainabilit...    47933    14585\n",
       "8  stringing hope embracing others membentang asa...    29018     8967"
      ]
     },
     "execution_count": 20,
     "metadata": {},
     "output_type": "execute_result"
    }
   ],
   "source": [
    "pw = pd.read_fwf(\"E:/tm/project2/sentiment dictionary/positive-words.txt\")\n",
    "nw = pd.read_fwf(\"E:/tm/project2/sentiment dictionary/negative-words.txt\")\n",
    "train['Positif'] = train['Text'].apply(lambda x: len([x for x in x.split() if x in pw[\"words\"].tolist()]))\n",
    "train['Negatif'] = train['Text'].apply(lambda x: len([x for x in x.split() if x in nw[\"words\"].tolist()]))\n",
    "train[['Text','Positif','Negatif']].head(10)"
   ]
  },
  {
   "cell_type": "markdown",
   "metadata": {},
   "source": [
    "# 4. Retrieve popular words each company/sic in sort"
   ]
  },
  {
   "cell_type": "code",
   "execution_count": 21,
   "metadata": {
    "scrolled": true
   },
   "outputs": [
    {
     "data": {
      "text/html": [
       "<div>\n",
       "<style scoped>\n",
       "    .dataframe tbody tr th:only-of-type {\n",
       "        vertical-align: middle;\n",
       "    }\n",
       "\n",
       "    .dataframe tbody tr th {\n",
       "        vertical-align: top;\n",
       "    }\n",
       "\n",
       "    .dataframe thead th {\n",
       "        text-align: right;\n",
       "    }\n",
       "</style>\n",
       "<table border=\"1\" class=\"dataframe\">\n",
       "  <thead>\n",
       "    <tr style=\"text-align: right;\">\n",
       "      <th></th>\n",
       "      <th>2010</th>\n",
       "      <th>2011</th>\n",
       "      <th>2012</th>\n",
       "      <th>2013</th>\n",
       "      <th>2014</th>\n",
       "      <th>2015</th>\n",
       "      <th>2016</th>\n",
       "      <th>2017</th>\n",
       "      <th>2018</th>\n",
       "    </tr>\n",
       "  </thead>\n",
       "  <tbody>\n",
       "    <tr>\n",
       "      <th>0</th>\n",
       "      <td>program</td>\n",
       "      <td>program</td>\n",
       "      <td>program</td>\n",
       "      <td>bank</td>\n",
       "      <td>program</td>\n",
       "      <td>sustainability</td>\n",
       "      <td>bank</td>\n",
       "      <td>program</td>\n",
       "      <td>program</td>\n",
       "    </tr>\n",
       "    <tr>\n",
       "      <th>1</th>\n",
       "      <td>lingkungan</td>\n",
       "      <td>sustainability</td>\n",
       "      <td>sustainability</td>\n",
       "      <td>program</td>\n",
       "      <td>sustainability</td>\n",
       "      <td>program</td>\n",
       "      <td>program</td>\n",
       "      <td>sustainability</td>\n",
       "      <td>sustainability</td>\n",
       "    </tr>\n",
       "    <tr>\n",
       "      <th>2</th>\n",
       "      <td>sustainability</td>\n",
       "      <td>lingkungan</td>\n",
       "      <td>employees</td>\n",
       "      <td>sustainability</td>\n",
       "      <td>bank</td>\n",
       "      <td>bank</td>\n",
       "      <td>sustainability</td>\n",
       "      <td>keberlanjutan</td>\n",
       "      <td>keberlanjutan</td>\n",
       "    </tr>\n",
       "    <tr>\n",
       "      <th>3</th>\n",
       "      <td>bank</td>\n",
       "      <td>astra</td>\n",
       "      <td>management</td>\n",
       "      <td>management</td>\n",
       "      <td>keberlanjutan</td>\n",
       "      <td>keberlanjutan</td>\n",
       "      <td>management</td>\n",
       "      <td>management</td>\n",
       "      <td>management</td>\n",
       "    </tr>\n",
       "    <tr>\n",
       "      <th>4</th>\n",
       "      <td>business</td>\n",
       "      <td>management</td>\n",
       "      <td>total</td>\n",
       "      <td>employees</td>\n",
       "      <td>management</td>\n",
       "      <td>management</td>\n",
       "      <td>keberlanjutan</td>\n",
       "      <td>lingkungan</td>\n",
       "      <td>lingkungan</td>\n",
       "    </tr>\n",
       "  </tbody>\n",
       "</table>\n",
       "</div>"
      ],
      "text/plain": [
       "             2010            2011            2012            2013  \\\n",
       "0         program         program         program            bank   \n",
       "1      lingkungan  sustainability  sustainability         program   \n",
       "2  sustainability      lingkungan       employees  sustainability   \n",
       "3            bank           astra      management      management   \n",
       "4        business      management           total       employees   \n",
       "\n",
       "             2014            2015            2016            2017  \\\n",
       "0         program  sustainability            bank         program   \n",
       "1  sustainability         program         program  sustainability   \n",
       "2            bank            bank  sustainability   keberlanjutan   \n",
       "3   keberlanjutan   keberlanjutan      management      management   \n",
       "4      management      management   keberlanjutan      lingkungan   \n",
       "\n",
       "             2018  \n",
       "0         program  \n",
       "1  sustainability  \n",
       "2   keberlanjutan  \n",
       "3      management  \n",
       "4      lingkungan  "
      ]
     },
     "execution_count": 21,
     "metadata": {},
     "output_type": "execute_result"
    }
   ],
   "source": [
    "freq = []\n",
    "i = 0\n",
    "nfreq = 0\n",
    "nama_perusahaan = []\n",
    "i = 0\n",
    "for c in train[\"Name\"]:\n",
    "    nama_perusahaan.append(c)\n",
    "    freq.append(pd.Series(''.join(train.iloc[i,1]).split()).value_counts())\n",
    "    nfreq = len(freq[i].keys()) if nfreq < len(freq[i].keys()) else nfreq\n",
    "    i+=1\n",
    "\n",
    "freq_data = list(np.arange(0,nfreq,1))\n",
    "freqtable = pd.DataFrame(np.zeros((nfreq, len(freq))), index=freq_data, columns=nama_perusahaan)\n",
    "\n",
    "for i in zip(freq_data):\n",
    "    j = 0\n",
    "    for perusahaan in nama_perusahaan:\n",
    "        nWord = len(freq[j].keys())\n",
    "        \n",
    "        freqtable.loc[i, perusahaan] = freq[j].keys()[i] if i[0] < nWord else '-'\n",
    "        j+=1\n",
    "freqtable.head(5)"
   ]
  },
  {
   "cell_type": "code",
   "execution_count": 22,
   "metadata": {},
   "outputs": [],
   "source": [
    "freqtable.to_excel(\"E:/tm/project2/rank_word_ec.xlsx\",index=False)"
   ]
  },
  {
   "cell_type": "markdown",
   "metadata": {},
   "source": [
    "# 5. Retrieve popular words of documents"
   ]
  },
  {
   "cell_type": "code",
   "execution_count": 23,
   "metadata": {},
   "outputs": [],
   "source": [
    "most_words = pd.Series(' '.join(train['Text']).split()).value_counts()\n",
    "most_words = pd.DataFrame(most_words.keys(),columns=[\"Kata populer\"])\n",
    "most_words.to_csv(\"E:/tm/project2/most_wordall.csv\",index = True)"
   ]
  },
  {
   "cell_type": "markdown",
   "metadata": {},
   "source": [
    "# 6. Sentiment analysis"
   ]
  },
  {
   "cell_type": "code",
   "execution_count": 24,
   "metadata": {},
   "outputs": [],
   "source": [
    "import textblob\n",
    "from textblob import TextBlob"
   ]
  },
  {
   "cell_type": "code",
   "execution_count": 25,
   "metadata": {},
   "outputs": [],
   "source": [
    "train['sentiment'] = train['Text'].apply(lambda x: TextBlob(x).sentiment[0] )"
   ]
  },
  {
   "cell_type": "code",
   "execution_count": 600,
   "metadata": {},
   "outputs": [],
   "source": [
    "# trainnew['Ticker'], trainnew['Kode'], trainnew['Year'] = trainnew['Name'].str.split('_', 2).str"
   ]
  },
  {
   "cell_type": "code",
   "execution_count": 601,
   "metadata": {},
   "outputs": [],
   "source": [
    "# pw = pd.read_fwf(\"E:/tm/project2/sentiment dictionary/positive-words.txt\")\n",
    "# nw = pd.read_fwf(\"E:/tm/project2/sentiment dictionary/negative-words.txt\")\n",
    "# trainnew['Positif'] = trainnew['Text'].apply(lambda x: len([x for x in x.split() if x in pw[\"words\"].tolist()]))\n",
    "# trainnew['Negatif'] = trainnew['Text'].apply(lambda x: len([x for x in x.split() if x in nw[\"words\"].tolist()]))"
   ]
  },
  {
   "cell_type": "code",
   "execution_count": 26,
   "metadata": {
    "scrolled": true
   },
   "outputs": [
    {
     "data": {
      "text/html": [
       "<div>\n",
       "<style scoped>\n",
       "    .dataframe tbody tr th:only-of-type {\n",
       "        vertical-align: middle;\n",
       "    }\n",
       "\n",
       "    .dataframe tbody tr th {\n",
       "        vertical-align: top;\n",
       "    }\n",
       "\n",
       "    .dataframe thead th {\n",
       "        text-align: right;\n",
       "    }\n",
       "</style>\n",
       "<table border=\"1\" class=\"dataframe\">\n",
       "  <thead>\n",
       "    <tr style=\"text-align: right;\">\n",
       "      <th></th>\n",
       "      <th>Name</th>\n",
       "      <th>Text</th>\n",
       "      <th>Jumlah Kata</th>\n",
       "      <th>Jumlah Karakter</th>\n",
       "      <th>Rata2 panjang kata</th>\n",
       "      <th>Kata2 tidak penting</th>\n",
       "      <th>hastags</th>\n",
       "      <th>Numerik</th>\n",
       "      <th>upper</th>\n",
       "      <th>Positif</th>\n",
       "      <th>Negatif</th>\n",
       "      <th>sentiment</th>\n",
       "    </tr>\n",
       "  </thead>\n",
       "  <tbody>\n",
       "    <tr>\n",
       "      <th>0</th>\n",
       "      <td>2010</td>\n",
       "      <td>sharing nature prosperity sustainability susta...</td>\n",
       "      <td>653315</td>\n",
       "      <td>4986677</td>\n",
       "      <td>6</td>\n",
       "      <td>109229</td>\n",
       "      <td>6</td>\n",
       "      <td>19984</td>\n",
       "      <td>35006</td>\n",
       "      <td>13839</td>\n",
       "      <td>4958</td>\n",
       "      <td>0.092178</td>\n",
       "    </tr>\n",
       "    <tr>\n",
       "      <th>1</th>\n",
       "      <td>2011</td>\n",
       "      <td>keberlanjutan sustainability astra agro lestar...</td>\n",
       "      <td>724720</td>\n",
       "      <td>5558826</td>\n",
       "      <td>6</td>\n",
       "      <td>125771</td>\n",
       "      <td>40</td>\n",
       "      <td>23193</td>\n",
       "      <td>44301</td>\n",
       "      <td>16787</td>\n",
       "      <td>5634</td>\n",
       "      <td>0.087418</td>\n",
       "    </tr>\n",
       "    <tr>\n",
       "      <th>2</th>\n",
       "      <td>2012</td>\n",
       "      <td>sustainability sustainability sustaining futur...</td>\n",
       "      <td>879138</td>\n",
       "      <td>6820280</td>\n",
       "      <td>6</td>\n",
       "      <td>178819</td>\n",
       "      <td>9</td>\n",
       "      <td>28933</td>\n",
       "      <td>48927</td>\n",
       "      <td>23160</td>\n",
       "      <td>7754</td>\n",
       "      <td>0.089750</td>\n",
       "    </tr>\n",
       "    <tr>\n",
       "      <th>3</th>\n",
       "      <td>2013</td>\n",
       "      <td>plant ng sustainable future keberlanjutan sust...</td>\n",
       "      <td>1249593</td>\n",
       "      <td>9613991</td>\n",
       "      <td>6</td>\n",
       "      <td>235491</td>\n",
       "      <td>56</td>\n",
       "      <td>38425</td>\n",
       "      <td>71862</td>\n",
       "      <td>33874</td>\n",
       "      <td>9944</td>\n",
       "      <td>0.103500</td>\n",
       "    </tr>\n",
       "    <tr>\n",
       "      <th>4</th>\n",
       "      <td>2014</td>\n",
       "      <td>puloayang raya blok kawasan industri pulogadun...</td>\n",
       "      <td>1634727</td>\n",
       "      <td>12936753</td>\n",
       "      <td>6</td>\n",
       "      <td>266559</td>\n",
       "      <td>104</td>\n",
       "      <td>48544</td>\n",
       "      <td>116163</td>\n",
       "      <td>42631</td>\n",
       "      <td>12264</td>\n",
       "      <td>0.102841</td>\n",
       "    </tr>\n",
       "  </tbody>\n",
       "</table>\n",
       "</div>"
      ],
      "text/plain": [
       "   Name                                               Text  Jumlah Kata  \\\n",
       "0  2010  sharing nature prosperity sustainability susta...       653315   \n",
       "1  2011  keberlanjutan sustainability astra agro lestar...       724720   \n",
       "2  2012  sustainability sustainability sustaining futur...       879138   \n",
       "3  2013  plant ng sustainable future keberlanjutan sust...      1249593   \n",
       "4  2014  puloayang raya blok kawasan industri pulogadun...      1634727   \n",
       "\n",
       "   Jumlah Karakter  Rata2 panjang kata  Kata2 tidak penting  hastags  Numerik  \\\n",
       "0          4986677                   6               109229        6    19984   \n",
       "1          5558826                   6               125771       40    23193   \n",
       "2          6820280                   6               178819        9    28933   \n",
       "3          9613991                   6               235491       56    38425   \n",
       "4         12936753                   6               266559      104    48544   \n",
       "\n",
       "    upper  Positif  Negatif  sentiment  \n",
       "0   35006    13839     4958   0.092178  \n",
       "1   44301    16787     5634   0.087418  \n",
       "2   48927    23160     7754   0.089750  \n",
       "3   71862    33874     9944   0.103500  \n",
       "4  116163    42631    12264   0.102841  "
      ]
     },
     "execution_count": 26,
     "metadata": {},
     "output_type": "execute_result"
    }
   ],
   "source": [
    "train.head()"
   ]
  },
  {
   "cell_type": "code",
   "execution_count": 616,
   "metadata": {},
   "outputs": [],
   "source": [
    "# new = train[['Ticker','Kode','Year','Positif','Negatif','sentiment']]"
   ]
  },
  {
   "cell_type": "code",
   "execution_count": 617,
   "metadata": {},
   "outputs": [],
   "source": [
    "# new.to_excel(\"E:/tm/project2/hasil.xlsx\",index=False)"
   ]
  },
  {
   "cell_type": "code",
   "execution_count": 27,
   "metadata": {
    "scrolled": true
   },
   "outputs": [
    {
     "data": {
      "text/html": [
       "<div>\n",
       "<style scoped>\n",
       "    .dataframe tbody tr th:only-of-type {\n",
       "        vertical-align: middle;\n",
       "    }\n",
       "\n",
       "    .dataframe tbody tr th {\n",
       "        vertical-align: top;\n",
       "    }\n",
       "\n",
       "    .dataframe thead th {\n",
       "        text-align: right;\n",
       "    }\n",
       "</style>\n",
       "<table border=\"1\" class=\"dataframe\">\n",
       "  <thead>\n",
       "    <tr style=\"text-align: right;\">\n",
       "      <th></th>\n",
       "      <th>Text</th>\n",
       "      <th>sentiment</th>\n",
       "    </tr>\n",
       "  </thead>\n",
       "  <tbody>\n",
       "    <tr>\n",
       "      <th>0</th>\n",
       "      <td>sharing nature prosperity sustainability susta...</td>\n",
       "      <td>0.092178</td>\n",
       "    </tr>\n",
       "    <tr>\n",
       "      <th>1</th>\n",
       "      <td>keberlanjutan sustainability astra agro lestar...</td>\n",
       "      <td>0.087418</td>\n",
       "    </tr>\n",
       "    <tr>\n",
       "      <th>2</th>\n",
       "      <td>sustainability sustainability sustaining futur...</td>\n",
       "      <td>0.089750</td>\n",
       "    </tr>\n",
       "    <tr>\n",
       "      <th>3</th>\n",
       "      <td>plant ng sustainable future keberlanjutan sust...</td>\n",
       "      <td>0.103500</td>\n",
       "    </tr>\n",
       "    <tr>\n",
       "      <th>4</th>\n",
       "      <td>puloayang raya blok kawasan industri pulogadun...</td>\n",
       "      <td>0.102841</td>\n",
       "    </tr>\n",
       "    <tr>\n",
       "      <th>5</th>\n",
       "      <td>makes us sustainable keberlanjutan sustainabil...</td>\n",
       "      <td>0.103144</td>\n",
       "    </tr>\n",
       "    <tr>\n",
       "      <th>6</th>\n",
       "      <td>daftar isi contents manajemen management sambu...</td>\n",
       "      <td>0.096540</td>\n",
       "    </tr>\n",
       "    <tr>\n",
       "      <th>7</th>\n",
       "      <td>moving sustainably keberlanjutan sustainabilit...</td>\n",
       "      <td>0.100301</td>\n",
       "    </tr>\n",
       "    <tr>\n",
       "      <th>8</th>\n",
       "      <td>stringing hope embracing others membentang asa...</td>\n",
       "      <td>0.094463</td>\n",
       "    </tr>\n",
       "  </tbody>\n",
       "</table>\n",
       "</div>"
      ],
      "text/plain": [
       "                                                Text  sentiment\n",
       "0  sharing nature prosperity sustainability susta...   0.092178\n",
       "1  keberlanjutan sustainability astra agro lestar...   0.087418\n",
       "2  sustainability sustainability sustaining futur...   0.089750\n",
       "3  plant ng sustainable future keberlanjutan sust...   0.103500\n",
       "4  puloayang raya blok kawasan industri pulogadun...   0.102841\n",
       "5  makes us sustainable keberlanjutan sustainabil...   0.103144\n",
       "6  daftar isi contents manajemen management sambu...   0.096540\n",
       "7  moving sustainably keberlanjutan sustainabilit...   0.100301\n",
       "8  stringing hope embracing others membentang asa...   0.094463"
      ]
     },
     "execution_count": 27,
     "metadata": {},
     "output_type": "execute_result"
    }
   ],
   "source": [
    "train['sentiment'] = train['Text'].apply(lambda x: TextBlob(x).sentiment[0] )\n",
    "train[['Text','sentiment']].head(10)"
   ]
  },
  {
   "cell_type": "code",
   "execution_count": 28,
   "metadata": {},
   "outputs": [],
   "source": [
    "train.to_excel(\"E:/tm/project2/summarize.xlsx\",index=False)"
   ]
  },
  {
   "cell_type": "markdown",
   "metadata": {},
   "source": [
    "# 7. Calculate number words each category"
   ]
  },
  {
   "cell_type": "code",
   "execution_count": 29,
   "metadata": {
    "scrolled": true
   },
   "outputs": [],
   "source": [
    "neg_word = nw # Negative\n",
    "ne_word = neg_word.values.tolist()\n",
    "rank_neg = train.copy()\n",
    "\n",
    "i = 0\n",
    "for month in neg_word['words']:\n",
    "    colname = month\n",
    "    rank_neg[colname] = rank_neg['Text'].apply(lambda x: len([x for x in x.split() if x in ne_word[i]]))\n",
    "    i+=1"
   ]
  },
  {
   "cell_type": "code",
   "execution_count": 30,
   "metadata": {
    "scrolled": true
   },
   "outputs": [],
   "source": [
    "rank_neg = rank_neg.drop(rank_neg.iloc[:,1:12] ,  axis='columns')\n",
    "rank_neg.set_index(['Name'], inplace = True)\n",
    "rank_neg = rank_neg.transpose()\n",
    "rank_neg.to_csv(\"E:/tm/project2/rank_neg.csv\",index=True)"
   ]
  },
  {
   "cell_type": "code",
   "execution_count": 31,
   "metadata": {},
   "outputs": [],
   "source": [
    "pos_word = pw # positive\n",
    "po_word = pos_word.values.tolist()\n",
    "rank_pos = train.copy()\n",
    "\n",
    "i = 0\n",
    "for month in pos_word['words']:\n",
    "    colname = month\n",
    "    rank_pos[colname] = rank_pos['Text'].apply(lambda x: len([x for x in x.split() if x in po_word[i]]))\n",
    "    i+=1"
   ]
  },
  {
   "cell_type": "code",
   "execution_count": 32,
   "metadata": {},
   "outputs": [],
   "source": [
    "rank_pos = rank_pos.drop(rank_pos.iloc[:,1:12] ,  axis='columns')\n",
    "rank_pos.set_index(['Name'], inplace = True)\n",
    "rank_pos = rank_pos.transpose()\n",
    "rank_pos.to_csv(\"E:/tm/project2/rank_pos.csv\",index = True)"
   ]
  },
  {
   "cell_type": "markdown",
   "metadata": {},
   "source": [
    "# 8. System Recomendation"
   ]
  },
  {
   "cell_type": "code",
   "execution_count": 33,
   "metadata": {},
   "outputs": [],
   "source": [
    "import os\n",
    "from os import path\n",
    "import numpy as np\n",
    "import graphlab\n",
    "import pandas as pd\n",
    "import matplotlib.pyplot as plt\n",
    "from graphlab import SFrame\n",
    "import string\n",
    "import nltk\n",
    "import re\n",
    "import sys"
   ]
  },
  {
   "cell_type": "code",
   "execution_count": 37,
   "metadata": {
    "scrolled": true
   },
   "outputs": [
    {
     "name": "stdout",
     "output_type": "stream",
     "text": [
      "This non-commercial license of GraphLab Create for academic use is assigned to mochammadasadurrofiq@gmail.com and will expire on September 30, 2019.\n"
     ]
    },
    {
     "name": "stderr",
     "output_type": "stream",
     "text": [
      "[INFO] graphlab.cython.cy_server: GraphLab Create v2.1 started. Logging: C:\\Users\\hp\\AppData\\Local\\Temp\\graphlab_server_1565980441.log.0\n"
     ]
    },
    {
     "data": {
      "text/html": [
       "<pre>Starting brute force nearest neighbors model training.</pre>"
      ],
      "text/plain": [
       "Starting brute force nearest neighbors model training."
      ]
     },
     "metadata": {},
     "output_type": "display_data"
    },
    {
     "name": "stdout",
     "output_type": "stream",
     "text": [
      "HASIL RUN DATA 2010\n"
     ]
    },
    {
     "data": {
      "text/html": [
       "<pre>Starting pairwise querying.</pre>"
      ],
      "text/plain": [
       "Starting pairwise querying."
      ]
     },
     "metadata": {},
     "output_type": "display_data"
    },
    {
     "data": {
      "text/html": [
       "<pre>+--------------+---------+-------------+--------------+</pre>"
      ],
      "text/plain": [
       "+--------------+---------+-------------+--------------+"
      ]
     },
     "metadata": {},
     "output_type": "display_data"
    },
    {
     "data": {
      "text/html": [
       "<pre>| Query points | # Pairs | % Complete. | Elapsed Time |</pre>"
      ],
      "text/plain": [
       "| Query points | # Pairs | % Complete. | Elapsed Time |"
      ]
     },
     "metadata": {},
     "output_type": "display_data"
    },
    {
     "data": {
      "text/html": [
       "<pre>+--------------+---------+-------------+--------------+</pre>"
      ],
      "text/plain": [
       "+--------------+---------+-------------+--------------+"
      ]
     },
     "metadata": {},
     "output_type": "display_data"
    },
    {
     "data": {
      "text/html": [
       "<pre>| 0            | 1       | 11.1111     | 20.999ms     |</pre>"
      ],
      "text/plain": [
       "| 0            | 1       | 11.1111     | 20.999ms     |"
      ]
     },
     "metadata": {},
     "output_type": "display_data"
    },
    {
     "data": {
      "text/html": [
       "<pre>| Done         |         | 100         | 84.002ms     |</pre>"
      ],
      "text/plain": [
       "| Done         |         | 100         | 84.002ms     |"
      ]
     },
     "metadata": {},
     "output_type": "display_data"
    },
    {
     "data": {
      "text/html": [
       "<pre>+--------------+---------+-------------+--------------+</pre>"
      ],
      "text/plain": [
       "+--------------+---------+-------------+--------------+"
      ]
     },
     "metadata": {},
     "output_type": "display_data"
    },
    {
     "name": "stdout",
     "output_type": "stream",
     "text": [
      "+-------------+-----------------+----------------+-----+\n",
      "| query_label | reference_label |    distance    | ... |\n",
      "+-------------+-----------------+----------------+-----+\n",
      "|      0      |       2010      |      0.0       | ... |\n",
      "|      0      |       2011      | 0.586407720261 | ... |\n",
      "|      0      |       2013      | 0.619945373393 | ... |\n",
      "|      0      |       2012      | 0.627436708141 | ... |\n",
      "|      0      |       2018      | 0.651252234112 | ... |\n",
      "|      0      |       2017      | 0.681215429137 | ... |\n",
      "|      0      |       2014      | 0.688007292744 | ... |\n",
      "|      0      |       2016      | 0.68985131397  | ... |\n",
      "|      0      |       2015      | 0.69870556249  | ... |\n",
      "+-------------+-----------------+----------------+-----+\n",
      "[9 rows x 4 columns]\n",
      "\n",
      "HASIL RUN DATA 2011\n"
     ]
    },
    {
     "data": {
      "text/html": [
       "<pre>Starting pairwise querying.</pre>"
      ],
      "text/plain": [
       "Starting pairwise querying."
      ]
     },
     "metadata": {},
     "output_type": "display_data"
    },
    {
     "data": {
      "text/html": [
       "<pre>+--------------+---------+-------------+--------------+</pre>"
      ],
      "text/plain": [
       "+--------------+---------+-------------+--------------+"
      ]
     },
     "metadata": {},
     "output_type": "display_data"
    },
    {
     "data": {
      "text/html": [
       "<pre>| Query points | # Pairs | % Complete. | Elapsed Time |</pre>"
      ],
      "text/plain": [
       "| Query points | # Pairs | % Complete. | Elapsed Time |"
      ]
     },
     "metadata": {},
     "output_type": "display_data"
    },
    {
     "data": {
      "text/html": [
       "<pre>+--------------+---------+-------------+--------------+</pre>"
      ],
      "text/plain": [
       "+--------------+---------+-------------+--------------+"
      ]
     },
     "metadata": {},
     "output_type": "display_data"
    },
    {
     "data": {
      "text/html": [
       "<pre>| 0            | 1       | 11.1111     | 16.982ms     |</pre>"
      ],
      "text/plain": [
       "| 0            | 1       | 11.1111     | 16.982ms     |"
      ]
     },
     "metadata": {},
     "output_type": "display_data"
    },
    {
     "data": {
      "text/html": [
       "<pre>| Done         |         | 100         | 80.988ms     |</pre>"
      ],
      "text/plain": [
       "| Done         |         | 100         | 80.988ms     |"
      ]
     },
     "metadata": {},
     "output_type": "display_data"
    },
    {
     "data": {
      "text/html": [
       "<pre>+--------------+---------+-------------+--------------+</pre>"
      ],
      "text/plain": [
       "+--------------+---------+-------------+--------------+"
      ]
     },
     "metadata": {},
     "output_type": "display_data"
    },
    {
     "name": "stdout",
     "output_type": "stream",
     "text": [
      "+-------------+-----------------+----------------+-----+\n",
      "| query_label | reference_label |    distance    | ... |\n",
      "+-------------+-----------------+----------------+-----+\n",
      "|      0      |       2011      |      0.0       | ... |\n",
      "|      0      |       2010      | 0.586407720261 | ... |\n",
      "|      0      |       2012      | 0.625112382509 | ... |\n",
      "|      0      |       2013      | 0.647065734594 | ... |\n",
      "|      0      |       2018      | 0.683940999684 | ... |\n",
      "|      0      |       2014      | 0.697670345069 | ... |\n",
      "|      0      |       2017      | 0.703496296783 | ... |\n",
      "|      0      |       2016      | 0.707053656554 | ... |\n",
      "|      0      |       2015      | 0.711446259833 | ... |\n",
      "+-------------+-----------------+----------------+-----+\n",
      "[9 rows x 4 columns]\n",
      "\n",
      "HASIL RUN DATA 2012\n"
     ]
    },
    {
     "data": {
      "text/html": [
       "<pre>Starting pairwise querying.</pre>"
      ],
      "text/plain": [
       "Starting pairwise querying."
      ]
     },
     "metadata": {},
     "output_type": "display_data"
    },
    {
     "data": {
      "text/html": [
       "<pre>+--------------+---------+-------------+--------------+</pre>"
      ],
      "text/plain": [
       "+--------------+---------+-------------+--------------+"
      ]
     },
     "metadata": {},
     "output_type": "display_data"
    },
    {
     "data": {
      "text/html": [
       "<pre>| Query points | # Pairs | % Complete. | Elapsed Time |</pre>"
      ],
      "text/plain": [
       "| Query points | # Pairs | % Complete. | Elapsed Time |"
      ]
     },
     "metadata": {},
     "output_type": "display_data"
    },
    {
     "data": {
      "text/html": [
       "<pre>+--------------+---------+-------------+--------------+</pre>"
      ],
      "text/plain": [
       "+--------------+---------+-------------+--------------+"
      ]
     },
     "metadata": {},
     "output_type": "display_data"
    },
    {
     "data": {
      "text/html": [
       "<pre>| 0            | 1       | 11.1111     | 16.981ms     |</pre>"
      ],
      "text/plain": [
       "| 0            | 1       | 11.1111     | 16.981ms     |"
      ]
     },
     "metadata": {},
     "output_type": "display_data"
    },
    {
     "data": {
      "text/html": [
       "<pre>| Done         |         | 100         | 72.987ms     |</pre>"
      ],
      "text/plain": [
       "| Done         |         | 100         | 72.987ms     |"
      ]
     },
     "metadata": {},
     "output_type": "display_data"
    },
    {
     "data": {
      "text/html": [
       "<pre>+--------------+---------+-------------+--------------+</pre>"
      ],
      "text/plain": [
       "+--------------+---------+-------------+--------------+"
      ]
     },
     "metadata": {},
     "output_type": "display_data"
    },
    {
     "name": "stdout",
     "output_type": "stream",
     "text": [
      "+-------------+-----------------+----------------+-----+\n",
      "| query_label | reference_label |    distance    | ... |\n",
      "+-------------+-----------------+----------------+-----+\n",
      "|      0      |       2012      |      0.0       | ... |\n",
      "|      0      |       2013      | 0.590027921819 | ... |\n",
      "|      0      |       2011      | 0.625112382509 | ... |\n",
      "|      0      |       2010      | 0.627436708141 | ... |\n",
      "|      0      |       2018      |  0.6754755844  | ... |\n",
      "|      0      |       2014      | 0.685664748995 | ... |\n",
      "|      0      |       2017      | 0.691121510513 | ... |\n",
      "|      0      |       2016      | 0.694203998204 | ... |\n",
      "|      0      |       2015      | 0.696945906838 | ... |\n",
      "+-------------+-----------------+----------------+-----+\n",
      "[9 rows x 4 columns]\n",
      "\n",
      "HASIL RUN DATA 2013\n"
     ]
    },
    {
     "data": {
      "text/html": [
       "<pre>Starting pairwise querying.</pre>"
      ],
      "text/plain": [
       "Starting pairwise querying."
      ]
     },
     "metadata": {},
     "output_type": "display_data"
    },
    {
     "data": {
      "text/html": [
       "<pre>+--------------+---------+-------------+--------------+</pre>"
      ],
      "text/plain": [
       "+--------------+---------+-------------+--------------+"
      ]
     },
     "metadata": {},
     "output_type": "display_data"
    },
    {
     "data": {
      "text/html": [
       "<pre>| Query points | # Pairs | % Complete. | Elapsed Time |</pre>"
      ],
      "text/plain": [
       "| Query points | # Pairs | % Complete. | Elapsed Time |"
      ]
     },
     "metadata": {},
     "output_type": "display_data"
    },
    {
     "data": {
      "text/html": [
       "<pre>+--------------+---------+-------------+--------------+</pre>"
      ],
      "text/plain": [
       "+--------------+---------+-------------+--------------+"
      ]
     },
     "metadata": {},
     "output_type": "display_data"
    },
    {
     "data": {
      "text/html": [
       "<pre>| 0            | 1       | 11.1111     | 15.982ms     |</pre>"
      ],
      "text/plain": [
       "| 0            | 1       | 11.1111     | 15.982ms     |"
      ]
     },
     "metadata": {},
     "output_type": "display_data"
    },
    {
     "data": {
      "text/html": [
       "<pre>| Done         |         | 100         | 81.988ms     |</pre>"
      ],
      "text/plain": [
       "| Done         |         | 100         | 81.988ms     |"
      ]
     },
     "metadata": {},
     "output_type": "display_data"
    },
    {
     "data": {
      "text/html": [
       "<pre>+--------------+---------+-------------+--------------+</pre>"
      ],
      "text/plain": [
       "+--------------+---------+-------------+--------------+"
      ]
     },
     "metadata": {},
     "output_type": "display_data"
    },
    {
     "name": "stdout",
     "output_type": "stream",
     "text": [
      "+-------------+-----------------+----------------+-----+\n",
      "| query_label | reference_label |    distance    | ... |\n",
      "+-------------+-----------------+----------------+-----+\n",
      "|      0      |       2013      |      0.0       | ... |\n",
      "|      0      |       2012      | 0.590027921819 | ... |\n",
      "|      0      |       2014      | 0.603651740641 | ... |\n",
      "|      0      |       2010      | 0.619945373393 | ... |\n",
      "|      0      |       2016      | 0.636402495013 | ... |\n",
      "|      0      |       2018      | 0.637178138756 | ... |\n",
      "|      0      |       2015      | 0.641477710209 | ... |\n",
      "|      0      |       2017      | 0.644463098295 | ... |\n",
      "|      0      |       2011      | 0.647065734594 | ... |\n",
      "+-------------+-----------------+----------------+-----+\n",
      "[9 rows x 4 columns]\n",
      "\n",
      "HASIL RUN DATA 2014\n"
     ]
    },
    {
     "data": {
      "text/html": [
       "<pre>Starting pairwise querying.</pre>"
      ],
      "text/plain": [
       "Starting pairwise querying."
      ]
     },
     "metadata": {},
     "output_type": "display_data"
    },
    {
     "data": {
      "text/html": [
       "<pre>+--------------+---------+-------------+--------------+</pre>"
      ],
      "text/plain": [
       "+--------------+---------+-------------+--------------+"
      ]
     },
     "metadata": {},
     "output_type": "display_data"
    },
    {
     "data": {
      "text/html": [
       "<pre>| Query points | # Pairs | % Complete. | Elapsed Time |</pre>"
      ],
      "text/plain": [
       "| Query points | # Pairs | % Complete. | Elapsed Time |"
      ]
     },
     "metadata": {},
     "output_type": "display_data"
    },
    {
     "data": {
      "text/html": [
       "<pre>+--------------+---------+-------------+--------------+</pre>"
      ],
      "text/plain": [
       "+--------------+---------+-------------+--------------+"
      ]
     },
     "metadata": {},
     "output_type": "display_data"
    },
    {
     "data": {
      "text/html": [
       "<pre>| 0            | 1       | 11.1111     | 11.986ms     |</pre>"
      ],
      "text/plain": [
       "| 0            | 1       | 11.1111     | 11.986ms     |"
      ]
     },
     "metadata": {},
     "output_type": "display_data"
    },
    {
     "data": {
      "text/html": [
       "<pre>| Done         |         | 100         | 86.99ms      |</pre>"
      ],
      "text/plain": [
       "| Done         |         | 100         | 86.99ms      |"
      ]
     },
     "metadata": {},
     "output_type": "display_data"
    },
    {
     "data": {
      "text/html": [
       "<pre>+--------------+---------+-------------+--------------+</pre>"
      ],
      "text/plain": [
       "+--------------+---------+-------------+--------------+"
      ]
     },
     "metadata": {},
     "output_type": "display_data"
    },
    {
     "name": "stdout",
     "output_type": "stream",
     "text": [
      "+-------------+-----------------+----------------+-----+\n",
      "| query_label | reference_label |    distance    | ... |\n",
      "+-------------+-----------------+----------------+-----+\n",
      "|      0      |       2014      |      0.0       | ... |\n",
      "|      0      |       2013      | 0.603651740641 | ... |\n",
      "|      0      |       2015      | 0.62421946549  | ... |\n",
      "|      0      |       2016      | 0.646288508691 | ... |\n",
      "|      0      |       2017      | 0.662261442324 | ... |\n",
      "|      0      |       2018      | 0.677577270109 | ... |\n",
      "|      0      |       2012      | 0.685664748995 | ... |\n",
      "|      0      |       2010      | 0.688007292744 | ... |\n",
      "|      0      |       2011      | 0.697670345069 | ... |\n",
      "+-------------+-----------------+----------------+-----+\n",
      "[9 rows x 4 columns]\n",
      "\n",
      "HASIL RUN DATA 2015\n"
     ]
    },
    {
     "data": {
      "text/html": [
       "<pre>Starting pairwise querying.</pre>"
      ],
      "text/plain": [
       "Starting pairwise querying."
      ]
     },
     "metadata": {},
     "output_type": "display_data"
    },
    {
     "data": {
      "text/html": [
       "<pre>+--------------+---------+-------------+--------------+</pre>"
      ],
      "text/plain": [
       "+--------------+---------+-------------+--------------+"
      ]
     },
     "metadata": {},
     "output_type": "display_data"
    },
    {
     "data": {
      "text/html": [
       "<pre>| Query points | # Pairs | % Complete. | Elapsed Time |</pre>"
      ],
      "text/plain": [
       "| Query points | # Pairs | % Complete. | Elapsed Time |"
      ]
     },
     "metadata": {},
     "output_type": "display_data"
    },
    {
     "data": {
      "text/html": [
       "<pre>+--------------+---------+-------------+--------------+</pre>"
      ],
      "text/plain": [
       "+--------------+---------+-------------+--------------+"
      ]
     },
     "metadata": {},
     "output_type": "display_data"
    },
    {
     "data": {
      "text/html": [
       "<pre>| 0            | 1       | 11.1111     | 11.982ms     |</pre>"
      ],
      "text/plain": [
       "| 0            | 1       | 11.1111     | 11.982ms     |"
      ]
     },
     "metadata": {},
     "output_type": "display_data"
    },
    {
     "data": {
      "text/html": [
       "<pre>| Done         |         | 100         | 81.991ms     |</pre>"
      ],
      "text/plain": [
       "| Done         |         | 100         | 81.991ms     |"
      ]
     },
     "metadata": {},
     "output_type": "display_data"
    },
    {
     "data": {
      "text/html": [
       "<pre>+--------------+---------+-------------+--------------+</pre>"
      ],
      "text/plain": [
       "+--------------+---------+-------------+--------------+"
      ]
     },
     "metadata": {},
     "output_type": "display_data"
    },
    {
     "name": "stdout",
     "output_type": "stream",
     "text": [
      "+-------------+-----------------+----------------+-----+\n",
      "| query_label | reference_label |    distance    | ... |\n",
      "+-------------+-----------------+----------------+-----+\n",
      "|      0      |       2015      |      0.0       | ... |\n",
      "|      0      |       2016      | 0.578101692026 | ... |\n",
      "|      0      |       2014      | 0.62421946549  | ... |\n",
      "|      0      |       2017      | 0.63535246192  | ... |\n",
      "|      0      |       2013      | 0.641477710209 | ... |\n",
      "|      0      |       2018      | 0.667994603603 | ... |\n",
      "|      0      |       2012      | 0.696945906838 | ... |\n",
      "|      0      |       2010      | 0.69870556249  | ... |\n",
      "|      0      |       2011      | 0.711446259833 | ... |\n",
      "+-------------+-----------------+----------------+-----+\n",
      "[9 rows x 4 columns]\n",
      "\n",
      "HASIL RUN DATA 2016\n"
     ]
    },
    {
     "data": {
      "text/html": [
       "<pre>Starting pairwise querying.</pre>"
      ],
      "text/plain": [
       "Starting pairwise querying."
      ]
     },
     "metadata": {},
     "output_type": "display_data"
    },
    {
     "data": {
      "text/html": [
       "<pre>+--------------+---------+-------------+--------------+</pre>"
      ],
      "text/plain": [
       "+--------------+---------+-------------+--------------+"
      ]
     },
     "metadata": {},
     "output_type": "display_data"
    },
    {
     "data": {
      "text/html": [
       "<pre>| Query points | # Pairs | % Complete. | Elapsed Time |</pre>"
      ],
      "text/plain": [
       "| Query points | # Pairs | % Complete. | Elapsed Time |"
      ]
     },
     "metadata": {},
     "output_type": "display_data"
    },
    {
     "data": {
      "text/html": [
       "<pre>+--------------+---------+-------------+--------------+</pre>"
      ],
      "text/plain": [
       "+--------------+---------+-------------+--------------+"
      ]
     },
     "metadata": {},
     "output_type": "display_data"
    },
    {
     "data": {
      "text/html": [
       "<pre>| 0            | 1       | 11.1111     | 20.999ms     |</pre>"
      ],
      "text/plain": [
       "| 0            | 1       | 11.1111     | 20.999ms     |"
      ]
     },
     "metadata": {},
     "output_type": "display_data"
    },
    {
     "data": {
      "text/html": [
       "<pre>| Done         |         | 100         | 82.006ms     |</pre>"
      ],
      "text/plain": [
       "| Done         |         | 100         | 82.006ms     |"
      ]
     },
     "metadata": {},
     "output_type": "display_data"
    },
    {
     "data": {
      "text/html": [
       "<pre>+--------------+---------+-------------+--------------+</pre>"
      ],
      "text/plain": [
       "+--------------+---------+-------------+--------------+"
      ]
     },
     "metadata": {},
     "output_type": "display_data"
    },
    {
     "name": "stdout",
     "output_type": "stream",
     "text": [
      "+-------------+-----------------+----------------+-----+\n",
      "| query_label | reference_label |    distance    | ... |\n",
      "+-------------+-----------------+----------------+-----+\n",
      "|      0      |       2016      |      0.0       | ... |\n",
      "|      0      |       2015      | 0.578101692026 | ... |\n",
      "|      0      |       2017      | 0.581737588652 | ... |\n",
      "|      0      |       2013      | 0.636402495013 | ... |\n",
      "|      0      |       2018      | 0.639328786966 | ... |\n",
      "|      0      |       2014      | 0.646288508691 | ... |\n",
      "|      0      |       2010      | 0.68985131397  | ... |\n",
      "|      0      |       2012      | 0.694203998204 | ... |\n",
      "|      0      |       2011      | 0.707053656554 | ... |\n",
      "+-------------+-----------------+----------------+-----+\n",
      "[9 rows x 4 columns]\n",
      "\n",
      "HASIL RUN DATA 2017\n"
     ]
    },
    {
     "data": {
      "text/html": [
       "<pre>Starting pairwise querying.</pre>"
      ],
      "text/plain": [
       "Starting pairwise querying."
      ]
     },
     "metadata": {},
     "output_type": "display_data"
    },
    {
     "data": {
      "text/html": [
       "<pre>+--------------+---------+-------------+--------------+</pre>"
      ],
      "text/plain": [
       "+--------------+---------+-------------+--------------+"
      ]
     },
     "metadata": {},
     "output_type": "display_data"
    },
    {
     "data": {
      "text/html": [
       "<pre>| Query points | # Pairs | % Complete. | Elapsed Time |</pre>"
      ],
      "text/plain": [
       "| Query points | # Pairs | % Complete. | Elapsed Time |"
      ]
     },
     "metadata": {},
     "output_type": "display_data"
    },
    {
     "data": {
      "text/html": [
       "<pre>+--------------+---------+-------------+--------------+</pre>"
      ],
      "text/plain": [
       "+--------------+---------+-------------+--------------+"
      ]
     },
     "metadata": {},
     "output_type": "display_data"
    },
    {
     "data": {
      "text/html": [
       "<pre>| 0            | 1       | 11.1111     | 29.005ms     |</pre>"
      ],
      "text/plain": [
       "| 0            | 1       | 11.1111     | 29.005ms     |"
      ]
     },
     "metadata": {},
     "output_type": "display_data"
    },
    {
     "data": {
      "text/html": [
       "<pre>| Done         |         | 100         | 65.005ms     |</pre>"
      ],
      "text/plain": [
       "| Done         |         | 100         | 65.005ms     |"
      ]
     },
     "metadata": {},
     "output_type": "display_data"
    },
    {
     "data": {
      "text/html": [
       "<pre>+--------------+---------+-------------+--------------+</pre>"
      ],
      "text/plain": [
       "+--------------+---------+-------------+--------------+"
      ]
     },
     "metadata": {},
     "output_type": "display_data"
    },
    {
     "name": "stdout",
     "output_type": "stream",
     "text": [
      "+-------------+-----------------+----------------+-----+\n",
      "| query_label | reference_label |    distance    | ... |\n",
      "+-------------+-----------------+----------------+-----+\n",
      "|      0      |       2017      |      0.0       | ... |\n",
      "|      0      |       2016      | 0.581737588652 | ... |\n",
      "|      0      |       2018      | 0.589066035068 | ... |\n",
      "|      0      |       2015      | 0.63535246192  | ... |\n",
      "|      0      |       2013      | 0.644463098295 | ... |\n",
      "|      0      |       2014      | 0.662261442324 | ... |\n",
      "|      0      |       2010      | 0.681215429137 | ... |\n",
      "|      0      |       2012      | 0.691121510513 | ... |\n",
      "|      0      |       2011      | 0.703496296783 | ... |\n",
      "+-------------+-----------------+----------------+-----+\n",
      "[9 rows x 4 columns]\n",
      "\n",
      "HASIL RUN DATA 2018\n"
     ]
    },
    {
     "data": {
      "text/html": [
       "<pre>Starting pairwise querying.</pre>"
      ],
      "text/plain": [
       "Starting pairwise querying."
      ]
     },
     "metadata": {},
     "output_type": "display_data"
    },
    {
     "data": {
      "text/html": [
       "<pre>+--------------+---------+-------------+--------------+</pre>"
      ],
      "text/plain": [
       "+--------------+---------+-------------+--------------+"
      ]
     },
     "metadata": {},
     "output_type": "display_data"
    },
    {
     "data": {
      "text/html": [
       "<pre>| Query points | # Pairs | % Complete. | Elapsed Time |</pre>"
      ],
      "text/plain": [
       "| Query points | # Pairs | % Complete. | Elapsed Time |"
      ]
     },
     "metadata": {},
     "output_type": "display_data"
    },
    {
     "data": {
      "text/html": [
       "<pre>+--------------+---------+-------------+--------------+</pre>"
      ],
      "text/plain": [
       "+--------------+---------+-------------+--------------+"
      ]
     },
     "metadata": {},
     "output_type": "display_data"
    },
    {
     "data": {
      "text/html": [
       "<pre>| 0            | 1       | 11.1111     | 13.98ms      |</pre>"
      ],
      "text/plain": [
       "| 0            | 1       | 11.1111     | 13.98ms      |"
      ]
     },
     "metadata": {},
     "output_type": "display_data"
    },
    {
     "data": {
      "text/html": [
       "<pre>| Done         |         | 100         | 88.986ms     |</pre>"
      ],
      "text/plain": [
       "| Done         |         | 100         | 88.986ms     |"
      ]
     },
     "metadata": {},
     "output_type": "display_data"
    },
    {
     "data": {
      "text/html": [
       "<pre>+--------------+---------+-------------+--------------+</pre>"
      ],
      "text/plain": [
       "+--------------+---------+-------------+--------------+"
      ]
     },
     "metadata": {},
     "output_type": "display_data"
    },
    {
     "name": "stdout",
     "output_type": "stream",
     "text": [
      "+-------------+-----------------+----------------+-----+\n",
      "| query_label | reference_label |    distance    | ... |\n",
      "+-------------+-----------------+----------------+-----+\n",
      "|      0      |       2018      |      0.0       | ... |\n",
      "|      0      |       2017      | 0.589066035068 | ... |\n",
      "|      0      |       2013      | 0.637178138756 | ... |\n",
      "|      0      |       2016      | 0.639328786966 | ... |\n",
      "|      0      |       2010      | 0.651252234112 | ... |\n",
      "|      0      |       2015      | 0.667994603603 | ... |\n",
      "|      0      |       2012      |  0.6754755844  | ... |\n",
      "|      0      |       2014      | 0.677577270109 | ... |\n",
      "|      0      |       2011      | 0.683940999684 | ... |\n",
      "+-------------+-----------------+----------------+-----+\n",
      "[9 rows x 4 columns]\n",
      "\n"
     ]
    }
   ],
   "source": [
    "data = graphlab.SFrame(train[['Name','Text']])\n",
    "data['Word_count'] = graphlab.text_analytics.count_words(data['Text'])\n",
    "tfidf = graphlab.text_analytics.tf_idf(data['Word_count'])\n",
    "\n",
    "# Earlier versions of GraphLab Create returned an SFrame rather than a single SArray\n",
    "# This notebook was created using Graphlab Create version 1.7.1\n",
    "if graphlab.version <= '1.6.1':\n",
    "    tfidf = tfidf['docs']\n",
    "\n",
    "data['tfidf'] = tfidf\n",
    "knn_model = graphlab.nearest_neighbors.create(data,features=['tfidf'],label='Name')\n",
    "\n",
    "train[\"Name\"] = train[\"Name\"].astype(int)\n",
    "a = train[\"Name\"][0]\n",
    "c = len(train[\"Name\"])\n",
    "for i in range (0,c):\n",
    "    a = train[\"Name\"][i]\n",
    "    a = a.astype('S')\n",
    "    print \"HASIL RUN DATA\",a\n",
    "    industri = data[data['Name'] == a]\n",
    "    knn_model.query(industri, k=c).print_rows(num_rows=c, num_columns=3)"
   ]
  },
  {
   "cell_type": "code",
   "execution_count": 38,
   "metadata": {},
   "outputs": [
    {
     "name": "stdout",
     "output_type": "stream",
     "text": [
      "Start Running:  2019-08-16 07:50:49.137000\n",
      "End Running:  2019-08-17 01:35:30.755000\n",
      "Time Running:  17 Jam\n"
     ]
    }
   ],
   "source": [
    "finish = datetime.datetime.now()\n",
    "print \"Start Running: \",start\n",
    "print \"End Running: \",finish\n",
    "print \"Time Running: \",int((finish - start).total_seconds())/3600,\"Jam\""
   ]
  },
  {
   "cell_type": "markdown",
   "metadata": {},
   "source": [
    "# 8. Create wordcloud"
   ]
  },
  {
   "cell_type": "code",
   "execution_count": null,
   "metadata": {},
   "outputs": [],
   "source": [
    "d = path.dirname(__file__) if \"__file__\" in locals() else os.getcwd()\n",
    "alice_mask = np.array(Image.open(path.join(d, \"cloud.png\")))\n",
    "stopwords = set(STOPWORDS)\n",
    "wc = WordCloud(background_color=\"white\", mask=alice_mask, max_words=20000,contour_width=5,contour_color='steelblue',\n",
    "    stopwords=stopwords)\n",
    "i = 0\n",
    "for e in train[\"Name\"]:\n",
    "    d1=train.iloc[i,1]\n",
    "    i+=1\n",
    "    wc.generate(d1)\n",
    "    wc.to_file(path.join(\"D:\\Career\\Paper Text Mining\\Wordcloud\", e+'.png'))"
   ]
  },
  {
   "cell_type": "code",
   "execution_count": null,
   "metadata": {},
   "outputs": [],
   "source": [
    "most_words = pd.Series(' '.join(train['Text']).split()).value_counts()\n",
    "most_words"
   ]
  }
 ],
 "metadata": {
  "kernelspec": {
   "display_name": "Python 3",
   "language": "python",
   "name": "python3"
  },
  "language_info": {
   "codemirror_mode": {
    "name": "ipython",
    "version": 3
   },
   "file_extension": ".py",
   "mimetype": "text/x-python",
   "name": "python",
   "nbconvert_exporter": "python",
   "pygments_lexer": "ipython3",
   "version": "3.7.4"
  }
 },
 "nbformat": 4,
 "nbformat_minor": 1
}
